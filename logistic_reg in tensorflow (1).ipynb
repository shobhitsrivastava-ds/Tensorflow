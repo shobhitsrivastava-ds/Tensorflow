{
 "cells": [
  {
   "cell_type": "code",
   "execution_count": null,
   "metadata": {},
   "outputs": [],
   "source": [
    "import numpy as np\n",
    "import tensorflow as tf\n",
    "import pandas as pd\n",
    "def sigmoid(sample):\n",
    "     return(1/1+np.exp(-sample))\n",
    "x_data=tf.random_normal((3,3),0,1) \n",
    "y_data=tf.random_normal((3,1),2,1)\n",
    " \n",
    "w_data=tf.Variable([2.0,3.1,0.4],tf.float32)\n",
    "b_data=tf.Variable(0.4,tf.float32)\n",
    "\n",
    "x=tf.placeholder(tf.float32)\n",
    "y_true=tf.placeholder(tf.float32)\n",
    "wxb=tf.matmul(x,tf.transpose(w_data)+b_data\n",
    "\n",
    "y_pred=sigmoid(wxb)\n",
    "n_iter=100\n",
    "\n",
    "with tf.name_scope(\"loss\") as shape:\n",
    "    loss=tf.nn.sigmoid_cross_entropy_with_logits(labels=y_true,logits=y_pred)\n",
    "    loss=tf.reduce_mean(loss)\n",
    "\n",
    "init = tf.global_variables_initializer()\n",
    "with tf.Session() as sess:\n",
    "    sess.run(init)\n",
    "    for step in range(NUM_STEPS):\n",
    "        sess.run(train,{x: x_data, y_true: y_data})\n",
    "        if (step % 50== 0):\n",
    "             print(step, sess.run([w,b]))\n",
    "    print(100, sess.run([w,b]))\n"
   ]
  }
 ],
 "metadata": {
  "kernelspec": {
   "display_name": "Python 3",
   "language": "python",
   "name": "python3"
  },
  "language_info": {
   "codemirror_mode": {
    "name": "ipython",
    "version": 3
   },
   "file_extension": ".py",
   "mimetype": "text/x-python",
   "name": "python",
   "nbconvert_exporter": "python",
   "pygments_lexer": "ipython3",
   "version": "3.7.1"
  }
 },
 "nbformat": 4,
 "nbformat_minor": 2
}
