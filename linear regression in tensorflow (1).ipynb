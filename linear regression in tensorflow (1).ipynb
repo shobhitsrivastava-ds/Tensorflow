{
 "cells": [
  {
   "cell_type": "code",
   "execution_count": null,
   "metadata": {},
   "outputs": [],
   "source": [
    "import pandas as pd\n",
    "import matplotlib.pyplot as plt\n",
    "import tensorflow as tf\n",
    "import numpy as np\n",
    "\n",
    "g=tf.Graph()\n",
    "x=tf.random_normal((3,3),0,1)\n",
    "y=tf.random_normal((3,1),2,3)\n",
    "with g.as_default():\n",
    "    x_data=tf.placeholder(tf.float32,shape=[3,3])\n",
    "    y_data=tf.placeholder(tf.float32,shape=[3,1])\n",
    "    with tf.name_scope(\"Inference\") as scope:\n",
    "        w=tf.Variable([0,0,0],dtype=tf.float32,name=\"weight\")\n",
    "        b=tf.Variable([1,1,1],dtype=tf.float32,name=\"bias\")\n",
    "        y_pred=tf.matmul(x,tf.transpose(w))+b\n",
    "    with tf.name_scope(\"loss\") as scope:\n",
    "        loss=tf.reduce_sum(tf.square(y_true-y_pred))\n",
    "    with tf.name_scope(\"train\") as scope:\n",
    "        learning_rate=0.001\n",
    "        optimizer=tf.trainGradientDescentOptimizer(learning_rate)\n",
    "        train=optimizer.minimize(loss)\n",
    "\n",
    "#Before starting,letus initilize the value\n",
    "init=tf.global_variables_initializer()\n",
    "with tf.Session() as sess:\n",
    "    n_iteration=1000\n",
    "    sess.run(init)\n",
    "    for steps in range(n_iteration):\n",
    "        sess.run(train,feed_dict={x_data:x,y_data:y})\n",
    "        if(step%5== 0):\n",
    "            print(steps,sess.run([w,b]))\n",
    "    print(steps,sess.run([w,b]))"
   ]
  }
 ],
 "metadata": {
  "kernelspec": {
   "display_name": "Python 3",
   "language": "python",
   "name": "python3"
  },
  "language_info": {
   "codemirror_mode": {
    "name": "ipython",
    "version": 3
   },
   "file_extension": ".py",
   "mimetype": "text/x-python",
   "name": "python",
   "nbconvert_exporter": "python",
   "pygments_lexer": "ipython3",
   "version": "3.7.1"
  }
 },
 "nbformat": 4,
 "nbformat_minor": 2
}
